{
 "cells": [
  {
   "cell_type": "code",
   "execution_count": 4,
   "metadata": {
    "collapsed": false
   },
   "outputs": [
    {
     "name": "stdout",
     "output_type": "stream",
     "text": [
      "['year,month,date_of_month,day_of_week,births', '1994,1,1,6,8096', '1994,1,2,7,7772', '1994,1,3,1,10142', '1994,1,4,2,11248', '1994,1,5,3,11053', '1994,1,6,4,11406', '1994,1,7,5,11251', '1994,1,8,6,8653', '1994,1,9,7,7910', '1994,1,10,1,10498']\n"
     ]
    }
   ],
   "source": [
    "file = open(\"US_births_1994-2003_CDC_NCHS.csv\",'r')\n",
    "newfile = file.read()\n",
    "newfile = newfile.split('\\n')\n",
    "print(newfile[0:11])"
   ]
  },
  {
   "cell_type": "code",
   "execution_count": 9,
   "metadata": {
    "collapsed": true
   },
   "outputs": [
    {
     "name": "stdout",
     "output_type": "stream",
     "text": [
      "[[1994, 1, 1, 6, 8096], [1994, 1, 2, 7, 7772], [1994, 1, 3, 1, 10142], [1994, 1, 4, 2, 11248], [1994, 1, 5, 3, 11053], [1994, 1, 6, 4, 11406], [1994, 1, 7, 5, 11251], [1994, 1, 8, 6, 8653], [1994, 1, 9, 7, 7910], [1994, 1, 10, 1, 10498], [1994, 1, 11, 2, 11706]]\n"
     ]
    }
   ],
   "source": [
    "def read_csv(input_csv):\n",
    "    # this function creates a list of lists\n",
    "    file = open(input_csv,'r')\n",
    "    newfile = file.read()\n",
    "    newfile = newfile.split('\\n')\n",
    "    string_lst = newfile[1:len(newfile)]\n",
    "    final_list = []\n",
    "    for line in string_lst:\n",
    "        int_fields = []\n",
    "        string_fields = line.split(\",\")\n",
    "        yr = int(string_fields[0])\n",
    "        int_fields.append(yr)\n",
    "        mn = int(string_fields[1])\n",
    "        int_fields.append(mn)\n",
    "        dt = int(string_fields[2])\n",
    "        int_fields.append(dt)\n",
    "        day_of_week = int(string_fields[3])\n",
    "        int_fields.append(day_of_week)\n",
    "        births = int(string_fields[4])\n",
    "        int_fields.append(births)\n",
    "        final_list.append(int_fields)\n",
    "    return final_list\n",
    "cdc_list = read_csv(\"US_births_1994-2003_CDC_NCHS.csv\")\n",
    "print(cdc_list[0:11])"
   ]
  },
  {
   "cell_type": "code",
   "execution_count": 13,
   "metadata": {
    "collapsed": false
   },
   "outputs": [
    {
     "data": {
      "text/plain": [
       "{1: 3232517,\n",
       " 2: 3018140,\n",
       " 3: 3322069,\n",
       " 4: 3185314,\n",
       " 5: 3350907,\n",
       " 6: 3296530,\n",
       " 7: 3498783,\n",
       " 8: 3525858,\n",
       " 9: 3439698,\n",
       " 10: 3378814,\n",
       " 11: 3171647,\n",
       " 12: 3301860}"
      ]
     },
     "execution_count": 13,
     "metadata": {},
     "output_type": "execute_result"
    }
   ],
   "source": [
    "def month_births(input_lst):\n",
    "    births_per_month = dict()\n",
    "    for line in input_lst:\n",
    "        month = line[1]\n",
    "        births = line[4]\n",
    "        if month in births_per_month:\n",
    "            births_per_month[month] += births\n",
    "        else:\n",
    "            births_per_month[month] = births\n",
    "    return births_per_month\n",
    "\n",
    "cdc_months_births = month_births(cdc_list)\n",
    "\n",
    "cdc_months_births"
   ]
  },
  {
   "cell_type": "code",
   "execution_count": 15,
   "metadata": {
    "collapsed": false
   },
   "outputs": [
    {
     "data": {
      "text/plain": [
       "{1: 5789166,\n",
       " 2: 6446196,\n",
       " 3: 6322855,\n",
       " 4: 6288429,\n",
       " 5: 6233657,\n",
       " 6: 4562111,\n",
       " 7: 4079723}"
      ]
     },
     "execution_count": 15,
     "metadata": {},
     "output_type": "execute_result"
    }
   ],
   "source": [
    "def dow_births(input_lst):\n",
    "    births_per_day = dict()\n",
    "    for line in input_lst:\n",
    "        day = line[3]\n",
    "        births = line[4]\n",
    "        if day in births_per_day:\n",
    "            births_per_day[day] += births\n",
    "        else:\n",
    "            births_per_day[day] = births\n",
    "    return births_per_day\n",
    "\n",
    "cdc_days_births = dow_births(cdc_list)\n",
    "\n",
    "cdc_days_births\n",
    "    "
   ]
  },
  {
   "cell_type": "code",
   "execution_count": 20,
   "metadata": {
    "collapsed": false
   },
   "outputs": [
    {
     "data": {
      "text/plain": [
       "{1: 5789166,\n",
       " 2: 6446196,\n",
       " 3: 6322855,\n",
       " 4: 6288429,\n",
       " 5: 6233657,\n",
       " 6: 4562111,\n",
       " 7: 4079723}"
      ]
     },
     "execution_count": 20,
     "metadata": {},
     "output_type": "execute_result"
    }
   ],
   "source": [
    "def calc_counts(input_lst, column):\n",
    "    # this function takes as input a list of lists\n",
    "    # and the column number which could be month, year\n",
    "    # date of the month or day of week and returns\n",
    "    # a dictionary with the number of births summarized\n",
    "    # by the chosen column\n",
    "    births_per_unit = dict()\n",
    "    for line in input_lst:\n",
    "        col = line[column]\n",
    "        births = line[4]\n",
    "        if col in births_per_unit:\n",
    "            births_per_unit[col] += births\n",
    "        else:\n",
    "            births_per_unit[col] = births\n",
    "    return births_per_unit\n",
    "\n",
    "cdc_year_births = calc_counts(cdc_list,0)\n",
    "cdc_month_births = calc_counts(cdc_list,1)\n",
    "cdc_dom_births = calc_counts(cdc_list,2)\n",
    "cdc_dow_births = calc_counts(cdc_list,3)\n",
    "\n",
    "#cdc_year_births\n",
    "#cdc_month_births\n",
    "#cdc_dom_births\n",
    "cdc_dow_births"
   ]
  },
  {
   "cell_type": "code",
   "execution_count": null,
   "metadata": {
    "collapsed": true
   },
   "outputs": [],
   "source": []
  }
 ],
 "metadata": {
  "anaconda-cloud": {},
  "kernelspec": {
   "display_name": "Python 3",
   "language": "python",
   "name": "python3"
  },
  "language_info": {
   "codemirror_mode": {
    "name": "ipython",
    "version": 3
   },
   "file_extension": ".py",
   "mimetype": "text/x-python",
   "name": "python",
   "nbconvert_exporter": "python",
   "pygments_lexer": "ipython3",
   "version": "3.4.3"
  }
 },
 "nbformat": 4,
 "nbformat_minor": 1
}
